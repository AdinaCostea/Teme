{
  "nbformat": 4,
  "nbformat_minor": 0,
  "metadata": {
    "colab": {
      "provenance": [],
      "authorship_tag": "ABX9TyPITRzPM5qmPCg2Gm+gh7b7",
      "include_colab_link": true
    },
    "kernelspec": {
      "name": "python3",
      "display_name": "Python 3"
    },
    "language_info": {
      "name": "python"
    }
  },
  "cells": [
    {
      "cell_type": "markdown",
      "metadata": {
        "id": "view-in-github",
        "colab_type": "text"
      },
      "source": [
        "<a href=\"https://colab.research.google.com/github/AdinaCostea/Teme/blob/main/TEMA.ipynb\" target=\"_parent\"><img src=\"https://colab.research.google.com/assets/colab-badge.svg\" alt=\"Open In Colab\"/></a>"
      ]
    },
    {
      "cell_type": "code",
      "source": [
        "%%writefile config.ini\n",
        "; config.ini\n",
        "[server]\n",
        "url=https://www.w3schools.com/html/"
      ],
      "metadata": {
        "colab": {
          "base_uri": "https://localhost:8080/"
        },
        "id": "JM6NDsN4QGn-",
        "outputId": "be0c1437-781c-407c-d54e-9c255ab178fb"
      },
      "execution_count": 14,
      "outputs": [
        {
          "output_type": "stream",
          "name": "stdout",
          "text": [
            "Overwriting config.ini\n"
          ]
        }
      ]
    },
    {
      "cell_type": "code",
      "execution_count": 15,
      "metadata": {
        "colab": {
          "base_uri": "https://localhost:8080/"
        },
        "id": "Ht8Yd7uyv0wx",
        "outputId": "211a0b96-6d11-46b6-a18f-cfce3e3010d2"
      },
      "outputs": [
        {
          "output_type": "stream",
          "name": "stdout",
          "text": [
            "Requirement already satisfied: requests in /usr/local/lib/python3.10/dist-packages (2.31.0)\n",
            "Requirement already satisfied: beautifulsoup4 in /usr/local/lib/python3.10/dist-packages (4.12.3)\n",
            "Requirement already satisfied: charset-normalizer<4,>=2 in /usr/local/lib/python3.10/dist-packages (from requests) (3.3.2)\n",
            "Requirement already satisfied: idna<4,>=2.5 in /usr/local/lib/python3.10/dist-packages (from requests) (3.6)\n",
            "Requirement already satisfied: urllib3<3,>=1.21.1 in /usr/local/lib/python3.10/dist-packages (from requests) (2.0.7)\n",
            "Requirement already satisfied: certifi>=2017.4.17 in /usr/local/lib/python3.10/dist-packages (from requests) (2024.2.2)\n",
            "Requirement already satisfied: soupsieve>1.2 in /usr/local/lib/python3.10/dist-packages (from beautifulsoup4) (2.5)\n",
            "Introduceti URL-ul: https://click.ro/actualitate/national/palmieri-cu-luminite-de-craciun-in-parcul-din-35557.html\n",
            "Titlul este: \n",
            "Palmieri cu luminiÈe de CrÄciun, Ã®n parcul din Baia de ArieÅ \n",
            "Description Meta:\n",
            "[<meta charset=\"utf-8\"/>, <meta content=\"#ED2724\" name=\"theme-color\"/>, <meta content=\"width=device-width, initial-scale=1, minimum-scale=1\" name=\"viewport\"/>, <meta content=\"#FFFFFF\" name=\"msapplication-TileColor\"/>, <meta content=\"favicon-144.png\" name=\"msapplication-TileImage\"/>, <meta content=\"https://click.ro/actualitate/national/palmieri-cu-luminite-de-craciun-in-parcul-din-35557.html\" property=\"og:url\"/>, <meta content=\"article\" property=\"og:type\"/>, <meta content=\"Peste tot Ã®n ÈarÄ au fost deschise tÃ¢rgurile de CrÄciun Èi s-au pus luminiÈe pentru sÄrbÄtorile de iarnÄ. La Baia de ArieÅ, oraÅ din MunÅ£ii Apuseni, sÄrbÄtorile de iarnÄ Ã®nseamnÄ reni, MoÅ CrÄciun, dar Åi palmieri.\" name=\"description\"/>, <meta content=\"craciun, luminite, baia de aries, parc, remi, mos craciun\" name=\"keywords\"/>, <meta content=\"Palmieri cu luminiÈe de CrÄciun, Ã®n parcul din Baia de ArieÅ \" property=\"og:title\"/>, <meta content=\"Peste tot Ã®n ÈarÄ au fost deschise tÃ¢rgurile de CrÄciun Èi s-au pus luminiÈe pentru sÄrbÄtorile de iarnÄ. La Baia de ArieÅ, oraÅ din MunÅ£ii Apuseni, sÄrbÄtorile de iarnÄ Ã®nseamnÄ reni, MoÅ CrÄciun, dar Åi palmieri.\" property=\"og:description\"/>, <meta content=\"max-image-preview:large, max-video-preview:-1\" name=\"robots\"/>, <meta content=\"https://cdn.adh.reperio.news/image-b/b3a3e93a-41a1-4954-bd38-3ee0c2cf1502/index.jpeg?p=f%3Djpeg%26w%3D1200%26h%3D627%26r%3Dcover\" property=\"og:image\"/>, <meta content=\"q7b3z5p2h8t2csgpsuied7ojvsq7l7\" name=\"facebook-domain-verification\"/>, <meta content=\"article\" name=\"cXenseParse:pageclass\"/>, <meta content=\"https://click.ro/actualitate/national/palmieri-cu-luminite-de-craciun-in-parcul-din-35557.html\" name=\"cXenseParse:url\"/>]\n",
            "Configuration file:\n",
            "Titlul este: \n",
            "HTML Tutorial\n",
            "Description Meta:\n",
            "[<meta charset=\"utf-8\"/>, <meta content=\"width=device-width, initial-scale=1\" name=\"viewport\"/>, <meta content=\"HTML, Python, CSS, SQL, JavaScript, How to, PHP, Java, C, C++, C#, jQuery, Bootstrap, Colors, W3.CSS, XML, MySQL, Icons, NodeJS, React, Graphics, Angular, R, AI, Git, Data Science, Code Game, Tutorials, Programming, Web Development, Training, Learning, Quiz, Exercises, Courses, Lessons, References, Examples, Learn to code, Source code, Demos, Tips, Website\" name=\"Keywords\"/>, <meta content=\"Well organized and easy to understand Web building tutorials with lots of examples of how to use HTML, CSS, JavaScript, SQL, Python, PHP, Bootstrap, Java, XML and more.\" name=\"Description\"/>, <meta content=\"https://www.w3schools.com/images/w3schools_logo_436_2.png\" property=\"og:image\"/>, <meta content=\"image/png\" property=\"og:image:type\"/>, <meta content=\"436\" property=\"og:image:width\"/>, <meta content=\"228\" property=\"og:image:height\"/>, <meta content=\"W3Schools offers free online tutorials, references and exercises in all the major languages of the web. Covering popular subjects like HTML, CSS, JavaScript, Python, SQL, Java, and many, many more.\" property=\"og:description\"/>, <meta content=\"#00a300\" name=\"msapplication-TileColor\"/>, <meta content=\"#ffffff\" name=\"theme-color\"/>]\n"
          ]
        }
      ],
      "source": [
        "!pip install requests beautifulsoup4\n",
        "from configparser import ConfigParser\n",
        "import requests\n",
        "from bs4 import BeautifulSoup\n",
        "from configparser import ConfigParser\n",
        "!pip freeze > requirements.txt\n",
        "def titlu(url): #functie care extrage titlul paginii HTML\n",
        "  ok= requests.get(url)\n",
        "  aux = BeautifulSoup(ok.text, 'html.parser')\n",
        "  print(\"Titlul este: \")\n",
        "  for title in aux.find_all('title'):\n",
        "      print(title.get_text())\n",
        "\n",
        "def meta_description(url):  # functie care extrage meta description al paginii HTML\n",
        " r=requests.get(url)\n",
        " a=BeautifulSoup(r.text)\n",
        " meta_data=a.find_all('meta')\n",
        " print(\"Description Meta:\")\n",
        " print(meta_data)\n",
        "def main():\n",
        "    url = input(\"Introduceti URL-ul: \")\n",
        "    titlu(url)\n",
        "    meta_description(url)\n",
        "    print(\"Configuration file:\")\n",
        "    cfg = ConfigParser()\n",
        "    cfg.read('config.ini')\n",
        "    url = cfg['server']['url']\n",
        "    titlu(url)\n",
        "    meta_description(url)\n",
        "if __name__ == \"__main__\":\n",
        "    main()"
      ]
    }
  ]
}