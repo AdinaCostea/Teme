{
  "nbformat": 4,
  "nbformat_minor": 0,
  "metadata": {
    "colab": {
      "provenance": [],
      "toc_visible": true,
      "authorship_tag": "ABX9TyOm1x9F4NRvaxovcAPLk9uL",
      "include_colab_link": true
    },
    "kernelspec": {
      "name": "python3",
      "display_name": "Python 3"
    },
    "language_info": {
      "name": "python"
    }
  },
  "cells": [
    {
      "cell_type": "markdown",
      "metadata": {
        "id": "view-in-github",
        "colab_type": "text"
      },
      "source": [
        "<a href=\"https://colab.research.google.com/github/AdinaCostea/Teme/blob/main/Temafinala.ipynb\" target=\"_parent\"><img src=\"https://colab.research.google.com/assets/colab-badge.svg\" alt=\"Open In Colab\"/></a>"
      ]
    },
    {
      "cell_type": "code",
      "source": [
        "%%writefile config.ini\n",
        "; config.ini\n",
        "[server]\n",
        "url=https://www.olx.ro/electronice-si-electrocasnice/q-iphone-15-pro/\n",
        "email=https://docs.python.org/3/library/email.html#module-email\n",
        "parola=1234\n",
        "pret_limita=150\n",
        "cuvant_cheie=iphone 15 pro"
      ],
      "metadata": {
        "colab": {
          "base_uri": "https://localhost:8080/"
        },
        "id": "mvUEkUX3q5y5",
        "outputId": "33838c42-8c6b-420f-86bd-07753c360423"
      },
      "execution_count": 4,
      "outputs": [
        {
          "output_type": "stream",
          "name": "stdout",
          "text": [
            "Overwriting config.ini\n"
          ]
        }
      ]
    },
    {
      "cell_type": "code",
      "execution_count": 5,
      "metadata": {
        "id": "QYit06pnqZoM"
      },
      "outputs": [],
      "source": [
        "import os\n",
        "import time\n",
        "import configparser\n",
        "import requests\n",
        "from bs4 import BeautifulSoup\n",
        "import smtplib\n",
        "\n",
        "def log_time(func):\n",
        "    def aux(*args, **kwargs):\n",
        "        start= time.time()\n",
        "        res= func(*args, **kwargs)\n",
        "        end= time.time()\n",
        "        return res\n",
        "    return aux\n",
        "\n",
        "def get_rezultate():\n",
        "    conf = configparser.ConfigParser()\n",
        "    conf.read('config.ini')\n",
        "    return []\n",
        "\n",
        "    s_cuvant_cheie= conf.get('server', 'cuvant_cheie')\n",
        "    s_pret_limita = int(conf.get('server', 'pret_limita'))\n",
        "    s_adresa= conf.get('server', 'email')\n",
        "    s_parola = conf.get('server', 'parola')\n",
        "\n",
        "    try:\n",
        "        ok = requests.get(conf.get('server', 'url'))\n",
        "        ok.raise_for_status()\n",
        "    except requests.exceptions.RequestException as e:\n",
        "        print(f\"Eroare: {e}\")\n",
        "        return []\n",
        "\n",
        "\n",
        "        doc = BeautifulSoup(response.text, 'html.parser')\n",
        "\n",
        "        return []\n",
        "\n",
        "    ads = []\n",
        "    for ad in doc.find_all(\"div\", class_=\"offer\"):\n",
        "        title = ad.find(\"h3\", class_=\"margin-bottom-5\").text.strip()\n",
        "        price = int(''.join(filter(str.isdigit, ad.find(\"span\", class_=\"price\").text)))\n",
        "        if search_keyword in title.lower():\n",
        "            ads.append({'title': title, 'price': price})\n",
        "\n",
        "    return sorted(ads, key=lambda x: x['price'])\n",
        "\n",
        "\n",
        "if __name__ == \"__main__\":\n",
        "    if os.getenv(\"LOG\"):\n",
        "        log_time(get_rezultate)()\n",
        "    else:\n",
        "        for ad in get_rezultate():\n",
        "            print(f\"Title: {ad['title']}, Price: {ad['price']}\")\n",
        "\n",
        "    
        ""
      ]
    }
  ]
}
